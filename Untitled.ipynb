{
 "cells": [
  {
   "cell_type": "code",
   "execution_count": 1,
   "id": "a03a187c-26c8-49fe-a4bd-ff414ed73a11",
   "metadata": {},
   "outputs": [],
   "source": [
    "import numpy as np\n",
    "X = np.array([[1, 1], [2, 1], [3, 1.2], [4, 1], [5, 0.8], [6, 1]])\n",
    "from sklearn.decomposition import NMF\n",
    "model = NMF(n_components=2, init='random', random_state=0)\n",
    "W = model.fit_transform(X)\n",
    "H = model.components_"
   ]
  },
  {
   "cell_type": "code",
   "execution_count": 2,
   "id": "c2a25065-d6ad-4d6d-9fee-13e1278e53b4",
   "metadata": {},
   "outputs": [
    {
     "data": {
      "text/plain": [
       "array([[0.        , 0.46880687],\n",
       "       [0.55762104, 0.38906185],\n",
       "       [1.0039665 , 0.41888706],\n",
       "       [1.6736919 , 0.22910467],\n",
       "       [2.3434173 , 0.03932227],\n",
       "       [2.78976277, 0.06914748]])"
      ]
     },
     "execution_count": 2,
     "metadata": {},
     "output_type": "execute_result"
    }
   ],
   "source": [
    "model.transform(X)"
   ]
  },
  {
   "cell_type": "code",
   "execution_count": 18,
   "id": "c316ff60-fa6c-49a2-b750-366fa4a36517",
   "metadata": {},
   "outputs": [
    {
     "name": "stdout",
     "output_type": "stream",
     "text": [
      "Original data transformed: [[0.44671045]\n",
      " [0.75181483]\n",
      " [1.05691921]\n",
      " [1.50362966]\n",
      " [1.80873404]\n",
      " [2.25544449]]\n",
      "New data transformed: [[2.01792866]]\n"
     ]
    }
   ],
   "source": [
    "import numpy as np\n",
    "from sklearn.decomposition import NMF\n",
    "\n",
    "# Sample data\n",
    "X = np.array([[1, 1], [2, 1], [3, 1], [4, 2], [5, 2], [6, 3]])\n",
    "\n",
    "# Create and fit the NMF model\n",
    "model = NMF(n_components=1, init='random', random_state=0)\n",
    "model.fit(X)\n",
    "\n",
    "# Transform the original data\n",
    "X_transformed = model.transform(X)\n",
    "\n",
    "# New observation\n",
    "new_data = np.array([[5.5, 2.4 ]])\n",
    "\n",
    "# Transform the new observation using the fitted model\n",
    "new_data_transformed = model.transform(new_data)\n",
    "\n",
    "print(\"Original data transformed:\", X_transformed)\n",
    "print(\"New data transformed:\", new_data_transformed)"
   ]
  },
  {
   "cell_type": "code",
   "execution_count": null,
   "id": "5fd94af5-6cbb-4990-8c89-275f65b707e3",
   "metadata": {},
   "outputs": [],
   "source": []
  }
 ],
 "metadata": {
  "kernelspec": {
   "display_name": "Python 3 (ipykernel)",
   "language": "python",
   "name": "python3"
  },
  "language_info": {
   "codemirror_mode": {
    "name": "ipython",
    "version": 3
   },
   "file_extension": ".py",
   "mimetype": "text/x-python",
   "name": "python",
   "nbconvert_exporter": "python",
   "pygments_lexer": "ipython3",
   "version": "3.12.7"
  }
 },
 "nbformat": 4,
 "nbformat_minor": 5
}
